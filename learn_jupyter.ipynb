{
 "cells": [
  {
   "cell_type": "markdown",
   "metadata": {},
   "source": [
    "<img src='images/title3.png'>\n",
    "<img src=\"images/jupyter_icon.png\"  alt=\"jupyter_icon\" />"
   ]
  },
  {
   "cell_type": "markdown",
   "metadata": {},
   "source": [
    ">版本: 0.0.1 <br>\n",
    ">作者: 李贺元 <br>\n",
    ">邮箱: lhyfst@gmail.com <br>\n",
    ">版权归 李贺元(lhyfst) 和 od-do 组织所有 ,如需转载请与作者联系，不得用于商业用途 <br>"
   ]
  },
  {
   "cell_type": "markdown",
   "metadata": {
    "toc": true
   },
   "source": [
    "<h1>Table of Contents<span class=\"tocSkip\"></span></h1>\n",
    "<div class=\"toc\" style=\"margin-top: 1em;\"><ul class=\"toc-item\"><li><span><a href=\"#使用Jupyter，打开新世界\" data-toc-modified-id=\"使用Jupyter，打开新世界-1\"><span class=\"toc-item-num\">1&nbsp;&nbsp;</span>使用Jupyter，打开新世界</a></span><ul class=\"toc-item\"><li><span><a href=\"#什么是Jupyter？\" data-toc-modified-id=\"什么是Jupyter？-1.1\"><span class=\"toc-item-num\">1.1&nbsp;&nbsp;</span>什么是Jupyter？</a></span></li><li><span><a href=\"#为什么使用jupyter？\" data-toc-modified-id=\"为什么使用jupyter？-1.2\"><span class=\"toc-item-num\">1.2&nbsp;&nbsp;</span>为什么使用jupyter？</a></span></li><li><span><a href=\"#本教程目标\" data-toc-modified-id=\"本教程目标-1.3\"><span class=\"toc-item-num\">1.3&nbsp;&nbsp;</span>本教程目标</a></span></li></ul></li><li><span><a href=\"#下载Jupyter\" data-toc-modified-id=\"下载Jupyter-2\"><span class=\"toc-item-num\">2&nbsp;&nbsp;</span>下载Jupyter</a></span><ul class=\"toc-item\"><li><span><a href=\"#建议在虚拟环境中下载jupyter\" data-toc-modified-id=\"建议在虚拟环境中下载jupyter-2.1\"><span class=\"toc-item-num\">2.1&nbsp;&nbsp;</span>建议在虚拟环境中下载jupyter</a></span></li><li><span><a href=\"#使用pip下载jupyter\" data-toc-modified-id=\"使用pip下载jupyter-2.2\"><span class=\"toc-item-num\">2.2&nbsp;&nbsp;</span>使用pip下载jupyter</a></span></li><li><span><a href=\"#运行jupyter-notebook\" data-toc-modified-id=\"运行jupyter-notebook-2.3\"><span class=\"toc-item-num\">2.3&nbsp;&nbsp;</span>运行jupyter notebook</a></span></li></ul></li><li><span><a href=\"#远程登录\" data-toc-modified-id=\"远程登录-3\"><span class=\"toc-item-num\">3&nbsp;&nbsp;</span>远程登录</a></span></li><li><span><a href=\"#添加Nbextensions插件\" data-toc-modified-id=\"添加Nbextensions插件-4\"><span class=\"toc-item-num\">4&nbsp;&nbsp;</span>添加Nbextensions插件</a></span><ul class=\"toc-item\"><li><span><a href=\"#jupyter插件\" data-toc-modified-id=\"jupyter插件-4.1\"><span class=\"toc-item-num\">4.1&nbsp;&nbsp;</span>jupyter插件</a></span></li><li><span><a href=\"#下载-Nbextensions\" data-toc-modified-id=\"下载-Nbextensions-4.2\"><span class=\"toc-item-num\">4.2&nbsp;&nbsp;</span>下载 Nbextensions</a></span></li><li><span><a href=\"#友情推荐几款插件\" data-toc-modified-id=\"友情推荐几款插件-4.3\"><span class=\"toc-item-num\">4.3&nbsp;&nbsp;</span>友情推荐几款插件</a></span><ul class=\"toc-item\"><li><span><a href=\"#Table-of-Contents-(2)\" data-toc-modified-id=\"Table-of-Contents-(2)-4.3.1\"><span class=\"toc-item-num\">4.3.1&nbsp;&nbsp;</span>Table of Contents (2)</a></span></li><li><span><a href=\"#Variable-Inspector\" data-toc-modified-id=\"Variable-Inspector-4.3.2\"><span class=\"toc-item-num\">4.3.2&nbsp;&nbsp;</span>Variable Inspector</a></span></li><li><span><a href=\"#Hide-Header\" data-toc-modified-id=\"Hide-Header-4.3.3\"><span class=\"toc-item-num\">4.3.3&nbsp;&nbsp;</span>Hide Header</a></span></li><li><span><a href=\"#Collapsible-Headings\" data-toc-modified-id=\"Collapsible-Headings-4.3.4\"><span class=\"toc-item-num\">4.3.4&nbsp;&nbsp;</span>Collapsible Headings</a></span></li><li><span><a href=\"#ExecuteTime\" data-toc-modified-id=\"ExecuteTime-4.3.5\"><span class=\"toc-item-num\">4.3.5&nbsp;&nbsp;</span>ExecuteTime</a></span></li><li><span><a href=\"#Codefolding-;-Codefolding-in-Editor\" data-toc-modified-id=\"Codefolding-;-Codefolding-in-Editor-4.3.6\"><span class=\"toc-item-num\">4.3.6&nbsp;&nbsp;</span>Codefolding ; Codefolding in Editor</a></span></li><li><span><a href=\"#Snippets-Menu-;-Snippets\" data-toc-modified-id=\"Snippets-Menu-;-Snippets-4.3.7\"><span class=\"toc-item-num\">4.3.7&nbsp;&nbsp;</span>Snippets Menu ; Snippets</a></span></li><li><span><a href=\"#Highlighter\" data-toc-modified-id=\"Highlighter-4.3.8\"><span class=\"toc-item-num\">4.3.8&nbsp;&nbsp;</span>Highlighter</a></span></li><li><span><a href=\"#Keyboard-shortcut-editor\" data-toc-modified-id=\"Keyboard-shortcut-editor-4.3.9\"><span class=\"toc-item-num\">4.3.9&nbsp;&nbsp;</span>Keyboard shortcut editor</a></span></li><li><span><a href=\"#nbTranslate\" data-toc-modified-id=\"nbTranslate-4.3.10\"><span class=\"toc-item-num\">4.3.10&nbsp;&nbsp;</span>nbTranslate</a></span></li><li><span><a href=\"#Live-Markdown-Preview\" data-toc-modified-id=\"Live-Markdown-Preview-4.3.11\"><span class=\"toc-item-num\">4.3.11&nbsp;&nbsp;</span>Live Markdown Preview</a></span></li><li><span><a href=\"#Hide-Input-;-Hide-input-all\" data-toc-modified-id=\"Hide-Input-;-Hide-input-all-4.3.12\"><span class=\"toc-item-num\">4.3.12&nbsp;&nbsp;</span>Hide Input ; Hide input all</a></span></li><li><span><a href=\"#Gist-it\" data-toc-modified-id=\"Gist-it-4.3.13\"><span class=\"toc-item-num\">4.3.13&nbsp;&nbsp;</span>Gist-it</a></span></li><li><span><a href=\"#spellchecker\" data-toc-modified-id=\"spellchecker-4.3.14\"><span class=\"toc-item-num\">4.3.14&nbsp;&nbsp;</span>spellchecker</a></span></li><li><span><a href=\"#Datestamper\" data-toc-modified-id=\"Datestamper-4.3.15\"><span class=\"toc-item-num\">4.3.15&nbsp;&nbsp;</span>Datestamper</a></span></li><li><span><a href=\"#Python-Markdown\" data-toc-modified-id=\"Python-Markdown-4.3.16\"><span class=\"toc-item-num\">4.3.16&nbsp;&nbsp;</span>Python Markdown</a></span></li><li><span><a href=\"#Split-Cells-Notebook\" data-toc-modified-id=\"Split-Cells-Notebook-4.3.17\"><span class=\"toc-item-num\">4.3.17&nbsp;&nbsp;</span>Split Cells Notebook</a></span></li><li><span><a href=\"#Code-prettify\" data-toc-modified-id=\"Code-prettify-4.3.18\"><span class=\"toc-item-num\">4.3.18&nbsp;&nbsp;</span>Code prettify</a></span></li><li><span><a href=\"#Select-CodeMirror-Keymap\" data-toc-modified-id=\"Select-CodeMirror-Keymap-4.3.19\"><span class=\"toc-item-num\">4.3.19&nbsp;&nbsp;</span>Select CodeMirror Keymap</a></span></li><li><span><a href=\"#2to3-Converter\" data-toc-modified-id=\"2to3-Converter-4.3.20\"><span class=\"toc-item-num\">4.3.20&nbsp;&nbsp;</span>2to3 Converter</a></span></li><li><span><a href=\"#Exercise-;-Exercise2\" data-toc-modified-id=\"Exercise-;-Exercise2-4.3.21\"><span class=\"toc-item-num\">4.3.21&nbsp;&nbsp;</span>Exercise ; Exercise2</a></span></li></ul></li></ul></li><li><span><a href=\"#Jupyter基本使用\" data-toc-modified-id=\"Jupyter基本使用-5\"><span class=\"toc-item-num\">5&nbsp;&nbsp;</span>Jupyter基本使用</a></span><ul class=\"toc-item\"><li><span><a href=\"#目录页\" data-toc-modified-id=\"目录页-5.1\"><span class=\"toc-item-num\">5.1&nbsp;&nbsp;</span>目录页</a></span><ul class=\"toc-item\"><li><span><a href=\"#区域1\" data-toc-modified-id=\"区域1-5.1.1\"><span class=\"toc-item-num\">5.1.1&nbsp;&nbsp;</span>区域1</a></span></li><li><span><a href=\"#Upload上传文件\" data-toc-modified-id=\"Upload上传文件-5.1.2\"><span class=\"toc-item-num\">5.1.2&nbsp;&nbsp;</span>Upload上传文件</a></span></li><li><span><a href=\"#New新建\" data-toc-modified-id=\"New新建-5.1.3\"><span class=\"toc-item-num\">5.1.3&nbsp;&nbsp;</span>New新建</a></span></li><li><span><a href=\"#区域4\" data-toc-modified-id=\"区域4-5.1.4\"><span class=\"toc-item-num\">5.1.4&nbsp;&nbsp;</span>区域4</a></span></li></ul></li><li><span><a href=\"#.ipynb文件\" data-toc-modified-id=\".ipynb文件-5.2\"><span class=\"toc-item-num\">5.2&nbsp;&nbsp;</span>.ipynb文件</a></span></li></ul></li><li><span><a href=\"#魔法命令\" data-toc-modified-id=\"魔法命令-6\"><span class=\"toc-item-num\">6&nbsp;&nbsp;</span>魔法命令</a></span><ul class=\"toc-item\"><li><span><a href=\"#常用的行魔法命令\" data-toc-modified-id=\"常用的行魔法命令-6.1\"><span class=\"toc-item-num\">6.1&nbsp;&nbsp;</span>常用的行魔法命令</a></span><ul class=\"toc-item\"><li><span><a href=\"#%alias\" data-toc-modified-id=\"%alias-6.1.1\"><span class=\"toc-item-num\">6.1.1&nbsp;&nbsp;</span>%alias</a></span></li><li><span><a href=\"#%alias_magic\" data-toc-modified-id=\"%alias_magic-6.1.2\"><span class=\"toc-item-num\">6.1.2&nbsp;&nbsp;</span>%alias_magic</a></span></li><li><span><a href=\"#%config\" data-toc-modified-id=\"%config-6.1.3\"><span class=\"toc-item-num\">6.1.3&nbsp;&nbsp;</span>%config</a></span></li><li><span><a href=\"#%debug-,-%pdb\" data-toc-modified-id=\"%debug-,-%pdb-6.1.4\"><span class=\"toc-item-num\">6.1.4&nbsp;&nbsp;</span>%debug , %pdb</a></span></li><li><span><a href=\"#%env\" data-toc-modified-id=\"%env-6.1.5\"><span class=\"toc-item-num\">6.1.5&nbsp;&nbsp;</span>%env</a></span></li><li><span><a href=\"#%history\" data-toc-modified-id=\"%history-6.1.6\"><span class=\"toc-item-num\">6.1.6&nbsp;&nbsp;</span>%history</a></span></li><li><span><a href=\"#%load\" data-toc-modified-id=\"%load-6.1.7\"><span class=\"toc-item-num\">6.1.7&nbsp;&nbsp;</span>%load</a></span></li><li><span><a href=\"#%load_ext\" data-toc-modified-id=\"%load_ext-6.1.8\"><span class=\"toc-item-num\">6.1.8&nbsp;&nbsp;</span>%load_ext</a></span></li><li><span><a href=\"#%logoff,%logon,%logstart,%logstate,%logstop\" data-toc-modified-id=\"%logoff,%logon,%logstart,%logstate,%logstop-6.1.9\"><span class=\"toc-item-num\">6.1.9&nbsp;&nbsp;</span>%logoff,%logon,%logstart,%logstate,%logstop</a></span></li><li><span><a href=\"#%matplotlib\" data-toc-modified-id=\"%matplotlib-6.1.10\"><span class=\"toc-item-num\">6.1.10&nbsp;&nbsp;</span>%matplotlib</a></span></li><li><span><a href=\"#%pdef\" data-toc-modified-id=\"%pdef-6.1.11\"><span class=\"toc-item-num\">6.1.11&nbsp;&nbsp;</span>%pdef</a></span></li><li><span><a href=\"#%pdoc\" data-toc-modified-id=\"%pdoc-6.1.12\"><span class=\"toc-item-num\">6.1.12&nbsp;&nbsp;</span>%pdoc</a></span></li><li><span><a href=\"#%pfile\" data-toc-modified-id=\"%pfile-6.1.13\"><span class=\"toc-item-num\">6.1.13&nbsp;&nbsp;</span>%pfile</a></span></li><li><span><a href=\"#%pprint\" data-toc-modified-id=\"%pprint-6.1.14\"><span class=\"toc-item-num\">6.1.14&nbsp;&nbsp;</span>%pprint</a></span></li><li><span><a href=\"#%precision\" data-toc-modified-id=\"%precision-6.1.15\"><span class=\"toc-item-num\">6.1.15&nbsp;&nbsp;</span>%precision</a></span></li><li><span><a href=\"#%prun\" data-toc-modified-id=\"%prun-6.1.16\"><span class=\"toc-item-num\">6.1.16&nbsp;&nbsp;</span>%prun</a></span></li><li><span><a href=\"#%psearch\" data-toc-modified-id=\"%psearch-6.1.17\"><span class=\"toc-item-num\">6.1.17&nbsp;&nbsp;</span>%psearch</a></span></li><li><span><a href=\"#%psource\" data-toc-modified-id=\"%psource-6.1.18\"><span class=\"toc-item-num\">6.1.18&nbsp;&nbsp;</span>%psource</a></span></li><li><span><a href=\"#%pwd\" data-toc-modified-id=\"%pwd-6.1.19\"><span class=\"toc-item-num\">6.1.19&nbsp;&nbsp;</span>%pwd</a></span></li><li><span><a href=\"#%pycat\" data-toc-modified-id=\"%pycat-6.1.20\"><span class=\"toc-item-num\">6.1.20&nbsp;&nbsp;</span>%pycat</a></span></li><li><span><a href=\"#%pylab\" data-toc-modified-id=\"%pylab-6.1.21\"><span class=\"toc-item-num\">6.1.21&nbsp;&nbsp;</span>%pylab</a></span></li><li><span><a href=\"#%store\" data-toc-modified-id=\"%store-6.1.22\"><span class=\"toc-item-num\">6.1.22&nbsp;&nbsp;</span>%store</a></span></li><li><span><a href=\"#%quickref\" data-toc-modified-id=\"%quickref-6.1.23\"><span class=\"toc-item-num\">6.1.23&nbsp;&nbsp;</span>%quickref</a></span></li><li><span><a href=\"#%rerun\" data-toc-modified-id=\"%rerun-6.1.24\"><span class=\"toc-item-num\">6.1.24&nbsp;&nbsp;</span>%rerun</a></span></li><li><span><a href=\"#%reset\" data-toc-modified-id=\"%reset-6.1.25\"><span class=\"toc-item-num\">6.1.25&nbsp;&nbsp;</span>%reset</a></span></li><li><span><a href=\"#%reset_selective\" data-toc-modified-id=\"%reset_selective-6.1.26\"><span class=\"toc-item-num\">6.1.26&nbsp;&nbsp;</span>%reset_selective</a></span></li><li><span><a href=\"#%run\" data-toc-modified-id=\"%run-6.1.27\"><span class=\"toc-item-num\">6.1.27&nbsp;&nbsp;</span>%run</a></span></li><li><span><a href=\"#%time-,-%timeit\" data-toc-modified-id=\"%time-,-%timeit-6.1.28\"><span class=\"toc-item-num\">6.1.28&nbsp;&nbsp;</span>%time , %timeit</a></span></li><li><span><a href=\"#%who\" data-toc-modified-id=\"%who-6.1.29\"><span class=\"toc-item-num\">6.1.29&nbsp;&nbsp;</span>%who</a></span></li><li><span><a href=\"#%who_ls\" data-toc-modified-id=\"%who_ls-6.1.30\"><span class=\"toc-item-num\">6.1.30&nbsp;&nbsp;</span>%who_ls</a></span></li><li><span><a href=\"#%whos\" data-toc-modified-id=\"%whos-6.1.31\"><span class=\"toc-item-num\">6.1.31&nbsp;&nbsp;</span>%whos</a></span></li><li><span><a href=\"#%xmode\" data-toc-modified-id=\"%xmode-6.1.32\"><span class=\"toc-item-num\">6.1.32&nbsp;&nbsp;</span>%xmode</a></span></li></ul></li><li><span><a href=\"#常用的单元魔法命令\" data-toc-modified-id=\"常用的单元魔法命令-6.2\"><span class=\"toc-item-num\">6.2&nbsp;&nbsp;</span>常用的单元魔法命令</a></span><ul class=\"toc-item\"><li><span><a href=\"#声明脚本代码类型\" data-toc-modified-id=\"声明脚本代码类型-6.2.1\"><span class=\"toc-item-num\">6.2.1&nbsp;&nbsp;</span>声明脚本代码类型</a></span></li><li><span><a href=\"#%%writefile\" data-toc-modified-id=\"%%writefile-6.2.2\"><span class=\"toc-item-num\">6.2.2&nbsp;&nbsp;</span>%%writefile</a></span></li><li><span><a href=\"#%%time--%%timeit\" data-toc-modified-id=\"%%time--%%timeit-6.2.3\"><span class=\"toc-item-num\">6.2.3&nbsp;&nbsp;</span>%%time  %%timeit</a></span></li><li><span><a href=\"#%%capture\" data-toc-modified-id=\"%%capture-6.2.4\"><span class=\"toc-item-num\">6.2.4&nbsp;&nbsp;</span>%%capture</a></span></li></ul></li><li><span><a href=\"#自定义魔法命令\" data-toc-modified-id=\"自定义魔法命令-6.3\"><span class=\"toc-item-num\">6.3&nbsp;&nbsp;</span>自定义魔法命令</a></span></li></ul></li><li><span><a href=\"#Tips-&amp;-Tricks\" data-toc-modified-id=\"Tips-&amp;-Tricks-7\"><span class=\"toc-item-num\">7&nbsp;&nbsp;</span>Tips &amp; Tricks</a></span><ul class=\"toc-item\"><li><span><a href=\"#查看帮助\" data-toc-modified-id=\"查看帮助-7.1\"><span class=\"toc-item-num\">7.1&nbsp;&nbsp;</span>查看帮助</a></span></li><li><span><a href=\"#快捷键P打开命令面板\" data-toc-modified-id=\"快捷键P打开命令面板-7.2\"><span class=\"toc-item-num\">7.2&nbsp;&nbsp;</span>快捷键P打开命令面板</a></span></li><li><span><a href=\"#末句函数不输出\" data-toc-modified-id=\"末句函数不输出-7.3\"><span class=\"toc-item-num\">7.3&nbsp;&nbsp;</span>末句函数不输出</a></span></li><li><span><a href=\"#使用！运行Shell命令\" data-toc-modified-id=\"使用！运行Shell命令-7.4\"><span class=\"toc-item-num\">7.4&nbsp;&nbsp;</span>使用！运行Shell命令</a></span></li><li><span><a href=\"#在同一个notebook里运行R和Python\" data-toc-modified-id=\"在同一个notebook里运行R和Python-7.5\"><span class=\"toc-item-num\">7.5&nbsp;&nbsp;</span>在同一个notebook里运行R和Python</a></span></li><li><span><a href=\"#使用Cpython加速\" data-toc-modified-id=\"使用Cpython加速-7.6\"><span class=\"toc-item-num\">7.6&nbsp;&nbsp;</span>使用Cpython加速</a></span></li><li><span><a href=\"#使用Fortran\" data-toc-modified-id=\"使用Fortran-7.7\"><span class=\"toc-item-num\">7.7&nbsp;&nbsp;</span>使用Fortran</a></span></li><li><span><a href=\"#多指针编辑\" data-toc-modified-id=\"多指针编辑-7.8\"><span class=\"toc-item-num\">7.8&nbsp;&nbsp;</span>多指针编辑</a></span></li><li><span><a href=\"#使用RISE制作PPT\" data-toc-modified-id=\"使用RISE制作PPT-7.9\"><span class=\"toc-item-num\">7.9&nbsp;&nbsp;</span>使用RISE制作PPT</a></span></li><li><span><a href=\"#Cach-&amp;-History\" data-toc-modified-id=\"Cach-&amp;-History-7.10\"><span class=\"toc-item-num\">7.10&nbsp;&nbsp;</span>Cach &amp; History</a></span></li><li><span><a href=\"#Autocall\" data-toc-modified-id=\"Autocall-7.11\"><span class=\"toc-item-num\">7.11&nbsp;&nbsp;</span>Autocall</a></span></li><li><span><a href=\"#使用reconnect\" data-toc-modified-id=\"使用reconnect-7.12\"><span class=\"toc-item-num\">7.12&nbsp;&nbsp;</span>使用reconnect</a></span></li><li><span><a href=\"#使用Jupyter-Dashboards\" data-toc-modified-id=\"使用Jupyter-Dashboards-7.13\"><span class=\"toc-item-num\">7.13&nbsp;&nbsp;</span>使用Jupyter Dashboards</a></span></li><li><span><a href=\"#jupyter-换装\" data-toc-modified-id=\"jupyter-换装-7.14\"><span class=\"toc-item-num\">7.14&nbsp;&nbsp;</span>jupyter 换装</a></span></li><li><span><a href=\"#自定义样式\" data-toc-modified-id=\"自定义样式-7.15\"><span class=\"toc-item-num\">7.15&nbsp;&nbsp;</span>自定义样式</a></span></li><li><span><a href=\"#如何避免notebook卡顿？\" data-toc-modified-id=\"如何避免notebook卡顿？-7.16\"><span class=\"toc-item-num\">7.16&nbsp;&nbsp;</span>如何避免notebook卡顿？</a></span></li></ul></li><li><span><a href=\"#未来计划内容\" data-toc-modified-id=\"未来计划内容-8\"><span class=\"toc-item-num\">8&nbsp;&nbsp;</span>未来计划内容</a></span></li><li><span><a href=\"#相关链接\" data-toc-modified-id=\"相关链接-9\"><span class=\"toc-item-num\">9&nbsp;&nbsp;</span>相关链接</a></span></li></ul></div>"
   ]
  },
  {
   "cell_type": "markdown",
   "metadata": {},
   "source": [
    "## 使用Jupyter，打开新世界"
   ]
  },
  {
   "cell_type": "markdown",
   "metadata": {},
   "source": [
    "### 什么是Jupyter？"
   ]
  },
  {
   "cell_type": "markdown",
   "metadata": {},
   "source": [
    "jupyter是一款以浏览器为基础的在线交互式代码编辑器。其轻便、强交互、可展示的特性和活跃的社区给人以无限的遐想。<br>\n",
    "本篇教程即通过jupyter notebook 编写。"
   ]
  },
  {
   "cell_type": "markdown",
   "metadata": {},
   "source": [
    "### 为什么使用jupyter？"
   ]
  },
  {
   "cell_type": "markdown",
   "metadata": {},
   "source": [
    "**Jupyter在一定程度上反映了数据科学生态圈的现在，预测了数据科学生态圈的未来。**"
   ]
  },
  {
   "cell_type": "markdown",
   "metadata": {},
   "source": [
    "jupyter的以下优点让频繁与数据打交道的你不得不认真思考是否入坑：\n",
    "\n",
    "* **多语言支持**：<br>\n",
    "$\\ jupyter = ju(lia) + pyt(hon) + r $ \n",
    "<br>jupyter 即意味着多语言支持。更妙的是，jupyter可以在同一文件中支持多语言，让你能左手Python右手R地完成工作。\n",
    "\n",
    "* **强交互性**：<br>\n",
    "jupyter让你实时掌控你的数据流。在数据工作者的工作中，有大量的数据探索、数据清洗工作。在同一个.ipynb文件中，所有cell共享变量空间，这意味着你可以写一行代码，运行一下结果，一步一步地完成工作。你甚至可以在多个.ipynb文件间共享变量！这是jupyter的精髓，谁用谁知道:)\n",
    "\n",
    "* **jupyter + 服务器**：<br>\n",
    "jupyter实际上就是一个网络app。搭建自己的jupyter服务器，让它在后台挂起，你便可以随时随地随意地使用服务器强大的资源，你甚至可以在手机上监控并编写你的程序！\n",
    "\n",
    "* **轻量级，强定制**：<br>\n",
    "使用过许多大型的IDE后，我越来越讨厌大而全的IDE，反而喜欢轻巧自由的编辑器。jupyter就是这样一款编辑器。随开随用(开启时间快于大多数网页)；直接关闭也不妨碍在后台运行程序(与服务器结合)。<br>\n",
    "网页的形式时时冲击你的想象。你无法想象富媒体的网页可以让数据可视化、汇报文档变得多么有活力！尤其是当你会一些前端知识(html、css、javascript)时！\n",
    "\n",
    "* **魔法**：<br>\n",
    "还有很多tips值得你发掘。<br>\n",
    "这里仅举最常用的：兼容latax、兼容Markdown、兼容40余种编程语言、可以当做命令行直接与服务器交互(快卸载你的Xshell吧！)...\n",
    "\n",
    "\n",
    "当然，作为仍在快速迭代发展的项目，jupyter确实有一些缺点。<br>\n",
    "如强烈依赖网络环境(与服务器结合),有难免的网络延迟(与服务器结合)，有难免的网页渲染时间，代码提示和补全较为弱鸡，偶尔kernel抽筋等等。\n",
    "<br><br>\n",
    "但是瑕不掩瑜，相对jupyter的明显优点，对于这些缺点，我们当然是选择原谅她了！<br>\n",
    "喜不喜欢，不试试怎么能知道呢？<br>\n",
    "<br>\n",
    "Have a try!  https://try.jupyter.org/"
   ]
  },
  {
   "cell_type": "markdown",
   "metadata": {},
   "source": [
    "### 本教程目标"
   ]
  },
  {
   "cell_type": "markdown",
   "metadata": {},
   "source": [
    "* 搭建自己的jupyter服务器(Ubuntu环境)\n",
    "* 学习使用jupyter的基本操作\n",
    "* 学习使用基于jupyter的拓展"
   ]
  },
  {
   "cell_type": "markdown",
   "metadata": {},
   "source": [
    "## 下载Jupyter"
   ]
  },
  {
   "cell_type": "markdown",
   "metadata": {},
   "source": [
    "### 建议在虚拟环境中下载jupyter"
   ]
  },
  {
   "cell_type": "markdown",
   "metadata": {},
   "source": [
    "创建虚拟环境"
   ]
  },
  {
   "cell_type": "markdown",
   "metadata": {},
   "source": [
    "我用的是Python2.7，读者自便"
   ]
  },
  {
   "cell_type": "markdown",
   "metadata": {},
   "source": [
    "`$ virtualenv ENV --python=python2.7`"
   ]
  },
  {
   "cell_type": "markdown",
   "metadata": {},
   "source": [
    "<img src=\"images/1.png\"  alt=\"1\" />"
   ]
  },
  {
   "cell_type": "markdown",
   "metadata": {},
   "source": [
    "激活虚拟环境"
   ]
  },
  {
   "cell_type": "markdown",
   "metadata": {},
   "source": [
    "`$ source ENV/bin/activate`"
   ]
  },
  {
   "cell_type": "markdown",
   "metadata": {},
   "source": [
    "### 使用pip下载jupyter"
   ]
  },
  {
   "cell_type": "markdown",
   "metadata": {},
   "source": [
    "`$ pip install notebook`"
   ]
  },
  {
   "cell_type": "markdown",
   "metadata": {},
   "source": [
    "### 运行jupyter notebook"
   ]
  },
  {
   "cell_type": "markdown",
   "metadata": {},
   "source": [
    "`$ jupyter notebook`"
   ]
  },
  {
   "cell_type": "markdown",
   "metadata": {},
   "source": [
    "如果你在本机上运行notebook，此时会自动打开你的默认浏览器，其页面与下图类似(具体取决于你jupyter的根目录位置)：<br>\n",
    "<img src=\"images/2.png\"/>"
   ]
  },
  {
   "cell_type": "markdown",
   "metadata": {},
   "source": [
    "如果你在服务器上操作，服务器会返回如下字样：<br>\n",
    "<img src=\"images/3.png\"/>"
   ]
  },
  {
   "cell_type": "markdown",
   "metadata": {},
   "source": [
    "DON'T PANIC! 你已经离成功很近了！"
   ]
  },
  {
   "cell_type": "markdown",
   "metadata": {},
   "source": [
    "上面的信息显示：<br>\n",
    "jupyter已经开始运行，但由于服务器没有浏览器，所以你看不到页面(黄色提示部分)<br>\n",
    "最下面的网址是notebook运行的位置，其中token后面长长的一串是防止外人登录的一个安全识别码，我们不用管它。<br>"
   ]
  },
  {
   "cell_type": "markdown",
   "metadata": {},
   "source": [
    "现在你的jupyter已经成功下载并可以运行。<br>\n",
    "请使用 Ctrl+C 停掉jupyter服务。<br>\n",
    "如何使用你的电脑远程登录，请看下一节。"
   ]
  },
  {
   "cell_type": "markdown",
   "metadata": {},
   "source": [
    "## 远程登录"
   ]
  },
  {
   "cell_type": "markdown",
   "metadata": {},
   "source": [
    "生成配置文件"
   ]
  },
  {
   "cell_type": "markdown",
   "metadata": {},
   "source": [
    "`$ jupyter notebook --generate-config`"
   ]
  },
  {
   "cell_type": "markdown",
   "metadata": {},
   "source": [
    "此时，细心的你会发现根目录下已经生成了一个隐藏文件夹.jupyter"
   ]
  },
  {
   "cell_type": "markdown",
   "metadata": {},
   "source": [
    "<img src=\"images/4.png\"/>"
   ]
  },
  {
   "cell_type": "markdown",
   "metadata": {},
   "source": [
    "修改配置文件jupyter_notebook_config.py"
   ]
  },
  {
   "cell_type": "markdown",
   "metadata": {},
   "source": [
    "```bash\n",
    "c.NotebookApp.ip = '*'                                  # 允许从任意 IP 访问\n",
    "c.NotebookApp.port = 10097                              # 设置你的运行端口 (若端口已被占用，请与管理员联系)\n",
    "c.NotebookApp.open_browser = False                      # 运行 notebook 应用时不打开浏览器 (不会出现上文中的黄色提示)\n",
    "```"
   ]
  },
  {
   "cell_type": "markdown",
   "metadata": {
    "ExecuteTime": {
     "end_time": "2018-02-18T13:32:03.874549Z",
     "start_time": "2018-02-18T13:32:03.869756Z"
    }
   },
   "source": [
    "然后cd到你的jupyter根目录，运行<br>\n",
    "$ jupyter notebook<br>\n",
    "注意：请回到你的jupyter根目录，否则网页链接稍有不同，但对于新手可能是个坑<br>"
   ]
  },
  {
   "cell_type": "markdown",
   "metadata": {},
   "source": [
    "<img src=\"images/5.png\"/>"
   ]
  },
  {
   "cell_type": "markdown",
   "metadata": {},
   "source": [
    "复制下方链接，粘贴在你的浏览器url栏中，将其中localhost换成你的服务器IP地址"
   ]
  },
  {
   "cell_type": "markdown",
   "metadata": {
    "ExecuteTime": {
     "end_time": "2018-02-18T13:43:02.912474Z",
     "start_time": "2018-02-18T13:43:02.900718Z"
    }
   },
   "source": [
    "<img src=\"images/6.png\"/>"
   ]
  },
  {
   "cell_type": "markdown",
   "metadata": {},
   "source": [
    "现在你的jupyter服务器已经搭好了,是不是很简单!<br>\n",
    "先别急，我们还有事要做。<br>\n",
    "现在我们的jupyter可以在任何一台联网设备上被任何人登录，这是很不安全的，下面我们给我们的jupyter设一个密码。"
   ]
  },
  {
   "cell_type": "markdown",
   "metadata": {},
   "source": [
    "进入ipython，我们使用哈希给自己生成一个密码"
   ]
  },
  {
   "cell_type": "markdown",
   "metadata": {},
   "source": [
    "<img src=\"images/7.png\"/>"
   ]
  },
  {
   "cell_type": "markdown",
   "metadata": {
    "ExecuteTime": {
     "end_time": "2018-02-18T14:02:38.446819Z",
     "start_time": "2018-02-18T14:02:38.443079Z"
    }
   },
   "source": [
    "继续修改配置文件jupyter_notebook_config.py"
   ]
  },
  {
   "cell_type": "markdown",
   "metadata": {},
   "source": [
    "```bash\n",
    "c.NotebookApp.password = u'sha1:e5b780ddb086:9d236d103b0e52c8681ae04dc91fe0db18a525b1'\n",
    "```"
   ]
  },
  {
   "cell_type": "markdown",
   "metadata": {},
   "source": [
    "重启jupyter notebook，刷新浏览器。"
   ]
  },
  {
   "cell_type": "markdown",
   "metadata": {},
   "source": [
    "<img src=\"images/8.png\"/>"
   ]
  },
  {
   "cell_type": "markdown",
   "metadata": {},
   "source": [
    "输入密码，尽情享受你的私密空间吧！"
   ]
  },
  {
   "cell_type": "markdown",
   "metadata": {
    "ExecuteTime": {
     "end_time": "2018-02-18T14:17:45.063078Z",
     "start_time": "2018-02-18T14:17:45.058144Z"
    }
   },
   "source": [
    "**One more thing**"
   ]
  },
  {
   "cell_type": "markdown",
   "metadata": {},
   "source": [
    "我才不会告诉你使用nohup命令就可以在后台挂起notebook随时随地码代码呢！<br>\n",
    "(若管理员不方便联系，请慎用。没有足够的权限，你可能kill不掉你nobup的进程)"
   ]
  },
  {
   "cell_type": "markdown",
   "metadata": {},
   "source": [
    "## 添加Nbextensions插件"
   ]
  },
  {
   "cell_type": "markdown",
   "metadata": {},
   "source": [
    "### jupyter插件"
   ]
  },
  {
   "cell_type": "markdown",
   "metadata": {},
   "source": [
    "用了一段时间jupyter后，你发现，jupyter确实轻便、快捷。。<br>但是这也太简陋了吧。。。"
   ]
  },
  {
   "cell_type": "markdown",
   "metadata": {},
   "source": [
    "没关系，由于网页的易修改性，jupyter社区已经贡献了大量的插件，让jupyter的功能完爆IDE(emmm..姑且这样认为吧)"
   ]
  },
  {
   "cell_type": "markdown",
   "metadata": {},
   "source": [
    "正如其名，nbextensions是其中牛逼插件集合，我们可以下载nbextensions来拓展我们的jupyter"
   ]
  },
  {
   "cell_type": "markdown",
   "metadata": {},
   "source": [
    "### 下载 Nbextensions"
   ]
  },
  {
   "cell_type": "markdown",
   "metadata": {},
   "source": [
    "pip 下载 Nbextensions"
   ]
  },
  {
   "cell_type": "markdown",
   "metadata": {},
   "source": [
    "`pip install jupyter_contrib_nbextensions`"
   ]
  },
  {
   "cell_type": "markdown",
   "metadata": {},
   "source": [
    "激活"
   ]
  },
  {
   "cell_type": "markdown",
   "metadata": {},
   "source": [
    "`jupyter contrib nbextension install --user`"
   ]
  },
  {
   "cell_type": "markdown",
   "metadata": {},
   "source": [
    "重启jupyter notebook"
   ]
  },
  {
   "cell_type": "markdown",
   "metadata": {},
   "source": [
    "没看到变化？不存在的，第一次加载时间有点长，先等个半分钟。"
   ]
  },
  {
   "cell_type": "markdown",
   "metadata": {},
   "source": [
    "发现变化后点击这个玩意<br>\n",
    "<img src=\"images/9.png\"/>"
   ]
  },
  {
   "cell_type": "markdown",
   "metadata": {
    "ExecuteTime": {
     "end_time": "2018-02-18T14:55:50.135082Z",
     "start_time": "2018-02-18T14:55:50.130333Z"
    }
   },
   "source": [
    "里面就是各式各样的插件了，要哪个自便。<br>\n",
    "建议不要选太多，够用就行。用习惯jupyter后，你会发现，还是裸机最爽。"
   ]
  },
  {
   "cell_type": "markdown",
   "metadata": {},
   "source": [
    "### 友情推荐几款插件"
   ]
  },
  {
   "cell_type": "markdown",
   "metadata": {},
   "source": [
    "详见官方文档 http://jupyter-contrib-nbextensions.readthedocs.io/en/latest/index.html <br>\n",
    "排名分先后"
   ]
  },
  {
   "cell_type": "markdown",
   "metadata": {},
   "source": [
    "#### Table of Contents (2)"
   ]
  },
  {
   "cell_type": "markdown",
   "metadata": {},
   "source": [
    "目录，强烈推荐。在文件较长的时候非常有用<br>\n",
    "唯一的不足是太丑，如果你有css，js基础的话，可以自己写脚本美化一下。"
   ]
  },
  {
   "cell_type": "markdown",
   "metadata": {},
   "source": [
    "#### Variable Inspector"
   ]
  },
  {
   "cell_type": "markdown",
   "metadata": {
    "ExecuteTime": {
     "end_time": "2018-02-18T17:10:28.977971Z",
     "start_time": "2018-02-18T17:10:28.973031Z"
    }
   },
   "source": [
    "查看对象对应的值，MATLAB玩家和喜欢IDE的童鞋可以尝试一下。<br>\n",
    "有趣的是，点击对象前的x号，即可将其从变量空间中清除<br>\n",
    "但是还是太丑。<br>\n",
    "<img src='images/24.gif'>"
   ]
  },
  {
   "cell_type": "markdown",
   "metadata": {},
   "source": [
    "#### Hide Header"
   ]
  },
  {
   "cell_type": "markdown",
   "metadata": {},
   "source": [
    "使用Ctrl-H 隐藏头部，以扩展视野，很有用。"
   ]
  },
  {
   "cell_type": "markdown",
   "metadata": {},
   "source": [
    "#### Collapsible Headings"
   ]
  },
  {
   "cell_type": "markdown",
   "metadata": {},
   "source": [
    "cell折叠工具，项目比较大，文件比较长的时候很有用。<br>\n",
    "<img src='images/20.png'>"
   ]
  },
  {
   "cell_type": "markdown",
   "metadata": {},
   "source": [
    "#### ExecuteTime"
   ]
  },
  {
   "cell_type": "markdown",
   "metadata": {},
   "source": [
    "自动记录代码cell执行时间<br>\n",
    "<img src=\"images/12.png\"/><br>\n",
    "我曾经感觉在每个cell下面都加一行这个着实难看,<br>\n",
    "直到有一天，我把所有的模型都训练完后，接到命令：记录训练时间。。。<br>\n",
    "我花了一周把所有模型重新训练了一遍，只为了记录时间<br>\n",
    "从此我就没关过这个插件<br>"
   ]
  },
  {
   "cell_type": "markdown",
   "metadata": {},
   "source": [
    "#### Codefolding ; Codefolding in Editor"
   ]
  },
  {
   "cell_type": "markdown",
   "metadata": {},
   "source": [
    "折叠代码，当代码很长的时候比较有用。<br>\n",
    "<img src=\"images/11.png\"/>"
   ]
  },
  {
   "cell_type": "markdown",
   "metadata": {},
   "source": [
    "#### Snippets Menu ; Snippets"
   ]
  },
  {
   "cell_type": "markdown",
   "metadata": {},
   "source": [
    "插入代码片，懒省事或者忘掉某些代码怎么写的时候有用。\n",
    "* Snippets Menu\n",
    "<img src=\"images/15.png\"/><br>\n",
    "* Snippets\n",
    "<img src=\"images/23.gif\"/><br>"
   ]
  },
  {
   "cell_type": "markdown",
   "metadata": {
    "ExecuteTime": {
     "end_time": "2018-02-18T15:34:42.714981Z",
     "start_time": "2018-02-18T15:34:42.705282Z"
    }
   },
   "source": [
    "注意：可以自定义插入内容<br>\n",
    "对于需要重复使用的代码(比如初始化环境时，导入通常要用到的库)，将其写为snippet不失为一个好主意。<br>"
   ]
  },
  {
   "cell_type": "markdown",
   "metadata": {},
   "source": [
    "#### Highlighter"
   ]
  },
  {
   "cell_type": "markdown",
   "metadata": {
    "ExecuteTime": {
     "end_time": "2018-02-18T16:55:07.903037Z",
     "start_time": "2018-02-18T16:55:07.899084Z"
    }
   },
   "source": [
    "文字高亮<br>\n",
    "<img src='images/21.gif'>"
   ]
  },
  {
   "cell_type": "markdown",
   "metadata": {},
   "source": [
    "#### Keyboard shortcut editor"
   ]
  },
  {
   "cell_type": "markdown",
   "metadata": {},
   "source": [
    "自定义快捷键<br>"
   ]
  },
  {
   "cell_type": "markdown",
   "metadata": {},
   "source": [
    "#### nbTranslate"
   ]
  },
  {
   "cell_type": "markdown",
   "metadata": {
    "ExecuteTime": {
     "end_time": "2018-02-18T16:59:50.013252Z",
     "start_time": "2018-02-18T16:59:50.010111Z"
    }
   },
   "source": [
    "Alt-T 翻译<br>\n",
    "<img src='images/22.gif'>"
   ]
  },
  {
   "cell_type": "markdown",
   "metadata": {},
   "source": [
    "#### Live Markdown Preview"
   ]
  },
  {
   "cell_type": "markdown",
   "metadata": {},
   "source": [
    "实时显示Markdown内容，编写letax的时候十分有用"
   ]
  },
  {
   "cell_type": "markdown",
   "metadata": {},
   "source": [
    "#### Hide Input ; Hide input all"
   ]
  },
  {
   "cell_type": "markdown",
   "metadata": {
    "ExecuteTime": {
     "end_time": "2018-02-18T15:10:41.304552Z",
     "start_time": "2018-02-18T15:10:41.300493Z"
    }
   },
   "source": [
    "做给非程序员展示的时候有用<br>\n",
    "<img src=\"images/13.png\"/><br>\n",
    "<img src=\"images/17.png\"/><br>\n",
    "程序员和非程序员是两种动物<br>\n",
    "你想用代码感动她<br>\n",
    "却搞得她头晕眼花<br>"
   ]
  },
  {
   "cell_type": "markdown",
   "metadata": {},
   "source": [
    "#### Gist-it"
   ]
  },
  {
   "cell_type": "markdown",
   "metadata": {
    "ExecuteTime": {
     "end_time": "2018-02-18T15:36:33.944627Z",
     "start_time": "2018-02-18T15:36:33.939167Z"
    }
   },
   "source": [
    "随手发布gist\n",
    "<img src=\"images/16.png\"/><br>"
   ]
  },
  {
   "cell_type": "markdown",
   "metadata": {},
   "source": [
    "#### spellchecker"
   ]
  },
  {
   "cell_type": "markdown",
   "metadata": {},
   "source": [
    "怕你当程序员当傻了，写文档时连单词都拼错"
   ]
  },
  {
   "cell_type": "markdown",
   "metadata": {},
   "source": [
    "#### Datestamper"
   ]
  },
  {
   "cell_type": "markdown",
   "metadata": {
    "ExecuteTime": {
     "end_time": "2018-02-18T15:48:24.033350Z",
     "start_time": "2018-02-18T15:48:24.028303Z"
    }
   },
   "source": [
    "打时间戳"
   ]
  },
  {
   "cell_type": "markdown",
   "metadata": {},
   "source": [
    "#### Python Markdown"
   ]
  },
  {
   "cell_type": "markdown",
   "metadata": {},
   "source": [
    "可以在Markdown中实时显示Python变量，交互式绘图时很有用"
   ]
  },
  {
   "cell_type": "markdown",
   "metadata": {},
   "source": [
    "#### Split Cells Notebook"
   ]
  },
  {
   "cell_type": "markdown",
   "metadata": {},
   "source": [
    "如下效果<br>\n",
    "<img src=\"images/18.png\"/><br>\n",
    "有时候绘图的时候有用"
   ]
  },
  {
   "cell_type": "markdown",
   "metadata": {},
   "source": [
    "#### Code prettify"
   ]
  },
  {
   "cell_type": "markdown",
   "metadata": {
    "ExecuteTime": {
     "end_time": "2018-02-18T16:16:15.766016Z",
     "start_time": "2018-02-18T16:16:15.762716Z"
    }
   },
   "source": [
    "代码美化工具<br>\n",
    "<img src=\"images/19.gif\"/><br>"
   ]
  },
  {
   "cell_type": "markdown",
   "metadata": {},
   "source": [
    "#### Select CodeMirror Keymap"
   ]
  },
  {
   "cell_type": "markdown",
   "metadata": {},
   "source": [
    "赐予你上古神器vim、Emacs和现在比较流行的准神器sublime。"
   ]
  },
  {
   "cell_type": "markdown",
   "metadata": {},
   "source": [
    "#### 2to3 Converter"
   ]
  },
  {
   "cell_type": "markdown",
   "metadata": {},
   "source": [
    "py2到py3的转换器"
   ]
  },
  {
   "cell_type": "markdown",
   "metadata": {},
   "source": [
    "#### Exercise ; Exercise2"
   ]
  },
  {
   "cell_type": "markdown",
   "metadata": {},
   "source": [
    "用于折叠问题答案，教学用。对于普通开发、实验人员好像没什么用<br>\n",
    "<img src=\"images/14.gif\"/><br>"
   ]
  },
  {
   "cell_type": "markdown",
   "metadata": {},
   "source": [
    "很多东西都是一个从少到多，再从多到少的过程，尝试一下每个插件，再精选几个常用的即可，开启太多插件反倒会浪费加载时间。"
   ]
  },
  {
   "cell_type": "markdown",
   "metadata": {},
   "source": [
    "## Jupyter基本使用"
   ]
  },
  {
   "cell_type": "markdown",
   "metadata": {},
   "source": [
    "### 目录页"
   ]
  },
  {
   "cell_type": "markdown",
   "metadata": {},
   "source": [
    "打开jupyter根目录<br>\n",
    "<img src=\"images/25.png\"/>"
   ]
  },
  {
   "cell_type": "markdown",
   "metadata": {},
   "source": [
    "点击左上角的jupyter图标可以回到根目录。<br>点击右上角的logout可以登出当前用户。"
   ]
  },
  {
   "cell_type": "markdown",
   "metadata": {},
   "source": [
    "#### 区域1"
   ]
  },
  {
   "cell_type": "markdown",
   "metadata": {
    "ExecuteTime": {
     "end_time": "2018-02-18T17:59:29.030973Z",
     "start_time": "2018-02-18T17:59:29.026132Z"
    }
   },
   "source": [
    "* Files 是当前文件夹<br>\n",
    "* Running 是正在运行的kernel，一个.ipynb文件对应一个kernel<br>\n",
    "* Clusters 和大数据并行运算有关，我对此并不熟悉，使用过这个功能的同学可以给以补充\n",
    "* Nbextensions 插件"
   ]
  },
  {
   "cell_type": "markdown",
   "metadata": {},
   "source": [
    "#### Upload上传文件"
   ]
  },
  {
   "cell_type": "markdown",
   "metadata": {},
   "source": [
    "更简单的上传方法是用鼠标拖动你想上传的文件到图中区域4，即可完成上传。"
   ]
  },
  {
   "cell_type": "markdown",
   "metadata": {},
   "source": [
    "#### New新建"
   ]
  },
  {
   "cell_type": "markdown",
   "metadata": {},
   "source": [
    "点击New按钮<br>\n",
    "<img src=\"images/26.png\"/>"
   ]
  },
  {
   "cell_type": "markdown",
   "metadata": {},
   "source": [
    "Notebook下是你要新建的notebook文件的kernel类型。<br>\n",
    "kernel是jupyter的重要概念，可以理解为后台。<br>\n",
    "因为在当前环境下只安装了Python2和Python3的kernel，所以只显示了这两个。如果你下载有Julia、R、MATLAB等的kernel，这里也会显示的。<br>\n",
    "点击查看目前jupyter支持的语言及对应的kernel https://github.com/jupyter/jupyter/wiki/Jupyter-kernels"
   ]
  },
  {
   "cell_type": "markdown",
   "metadata": {},
   "source": [
    "Other下\n",
    "* Text File 是新建文本(代码)文件，可以支持绝大多数编程语言。\n",
    "* Folder 是新建文件夹。\n",
    "* Terminal 是和你的服务器新建终端连接。有了这个，你完全可以放心大胆地卸载你的Xshell。"
   ]
  },
  {
   "cell_type": "markdown",
   "metadata": {},
   "source": [
    "#### 区域4"
   ]
  },
  {
   "cell_type": "markdown",
   "metadata": {},
   "source": [
    "文件夹目录,和在terminal中ls命令显示的内容一致。"
   ]
  },
  {
   "cell_type": "markdown",
   "metadata": {},
   "source": [
    "###  .ipynb文件"
   ]
  },
  {
   "cell_type": "markdown",
   "metadata": {},
   "source": [
    "在New里点击Python3，新建一个demo.ipynb文件"
   ]
  },
  {
   "cell_type": "markdown",
   "metadata": {
    "ExecuteTime": {
     "end_time": "2018-02-19T10:10:36.462007Z",
     "start_time": "2018-02-19T10:10:36.457668Z"
    }
   },
   "source": [
    ".ipynb文件的视图应类似如下图<br>\n",
    "<img src='images/27.png'>"
   ]
  },
  {
   "cell_type": "markdown",
   "metadata": {},
   "source": [
    "1. 点击左上角jupyter图标，回到jupyter的根目录\n",
    "2. 点击demo(初始应为Untitled)，即可重命名\n",
    "3. 菜单栏有很多功能值得探索，比如file->download as可以把文件下载到本地；View->cell toolbar Slideshow可以将该文件转为PPT，具体请自行探索\n",
    "4. Toolbar 关于编辑Cell和kernel等的功能\n",
    "5. 状态栏，这里的铅笔标志代表处于编辑状态\n",
    "6. kernel 状态栏，圆圈中心为白色时表示kernel处于正常(空闲)状态，黑色代表kernel处于繁忙或dead状态\n",
    "7. 编辑区"
   ]
  },
  {
   "cell_type": "markdown",
   "metadata": {},
   "source": [
    "编辑区的cell有Command Mode和Edit Mode两种状态，类似Vim"
   ]
  },
  {
   "cell_type": "markdown",
   "metadata": {},
   "source": [
    "蓝色框代表该cell处于Command Mode，此时可进行cell层面的操作，比如复制、粘贴cell，以及大多数基于系统的快捷键<br>\n",
    "绿色框代表该cell处于Edit Mode，此时可进行文本操作，比如书写代码、复制粘贴代码"
   ]
  },
  {
   "cell_type": "markdown",
   "metadata": {},
   "source": [
    "两种状态下的快捷键可在Command Mode下，按h键查看<br>\n",
    "<img src='images/28.png'>"
   ]
  },
  {
   "cell_type": "markdown",
   "metadata": {},
   "source": [
    "当输出较长时，你可以单击或双击cell输出的左侧部分，或在command模式下使用O键将输出半折叠或完全折叠"
   ]
  },
  {
   "cell_type": "markdown",
   "metadata": {},
   "source": [
    "在Command Mode下,<br>\n",
    "Y键将cell转换为code模式<br>\n",
    "M键将cell转换为Markdown模式<br>\n",
    "R键将cell转换为raw模式"
   ]
  },
  {
   "cell_type": "markdown",
   "metadata": {
    "ExecuteTime": {
     "end_time": "2018-02-19T12:45:21.856989Z",
     "start_time": "2018-02-19T12:45:21.853565Z"
    }
   },
   "source": [
    "使用Ctrl-Enter可执行当前cell<br>\n",
    "使用Shift-Enter可执行当前cell，并将光标移至下方cell"
   ]
  },
  {
   "cell_type": "markdown",
   "metadata": {},
   "source": [
    "当你运行一段程序，却迟迟看不到输出时<br>\n",
    "Don't Panic,查看当前cell的前方是否为In[ * ]，且右上角kernel状态是否为黑色圆圈，这代表程序已经开始运行，您只需等待<br>"
   ]
  },
  {
   "cell_type": "markdown",
   "metadata": {},
   "source": [
    "## 魔法命令"
   ]
  },
  {
   "cell_type": "markdown",
   "metadata": {},
   "source": [
    "IPython提供了许多魔法命令，使得在IPython环境中的操作更加得心应手。魔法命令都以%或者%%开头，以%开头的成为行命令，%%开头的称为单元命令。行命令只对命令所在的行有效，而单元命令则必须出现在单元的第一行，对整个单元的代码进行处理。"
   ]
  },
  {
   "cell_type": "markdown",
   "metadata": {},
   "source": [
    "执行%lsmagic列出所有的魔法命令<br>执行%magic可以查看关于各个命令的说明<br>在命令之后添加?可以查看该命令的详细说明。<br>\n",
    "所有命令的详细解释请见文档 http://ipython.readthedocs.io/en/stable/interactive/magics.html"
   ]
  },
  {
   "cell_type": "code",
   "execution_count": 1,
   "metadata": {
    "ExecuteTime": {
     "end_time": "2018-02-19T15:24:13.649867Z",
     "start_time": "2018-02-19T15:24:13.634221Z"
    }
   },
   "outputs": [
    {
     "data": {
      "application/json": {
       "cell": {
        "!": "OSMagics",
        "HTML": "Other",
        "SVG": "Other",
        "bash": "Other",
        "capture": "ExecutionMagics",
        "debug": "ExecutionMagics",
        "file": "Other",
        "html": "DisplayMagics",
        "javascript": "DisplayMagics",
        "js": "DisplayMagics",
        "latex": "DisplayMagics",
        "perl": "Other",
        "prun": "ExecutionMagics",
        "pypy": "Other",
        "python": "Other",
        "python2": "Other",
        "python3": "Other",
        "ruby": "Other",
        "script": "ScriptMagics",
        "sh": "Other",
        "svg": "DisplayMagics",
        "sx": "OSMagics",
        "system": "OSMagics",
        "time": "ExecutionMagics",
        "timeit": "ExecutionMagics",
        "writefile": "OSMagics"
       },
       "line": {
        "alias": "OSMagics",
        "alias_magic": "BasicMagics",
        "autocall": "AutoMagics",
        "automagic": "AutoMagics",
        "autosave": "KernelMagics",
        "bookmark": "OSMagics",
        "cat": "Other",
        "cd": "OSMagics",
        "clear": "KernelMagics",
        "colors": "BasicMagics",
        "config": "ConfigMagics",
        "connect_info": "KernelMagics",
        "cp": "Other",
        "debug": "ExecutionMagics",
        "dhist": "OSMagics",
        "dirs": "OSMagics",
        "doctest_mode": "BasicMagics",
        "ed": "Other",
        "edit": "KernelMagics",
        "env": "OSMagics",
        "gui": "BasicMagics",
        "hist": "Other",
        "history": "HistoryMagics",
        "killbgscripts": "ScriptMagics",
        "ldir": "Other",
        "less": "KernelMagics",
        "lf": "Other",
        "lk": "Other",
        "ll": "Other",
        "load": "CodeMagics",
        "load_ext": "ExtensionMagics",
        "loadpy": "CodeMagics",
        "logoff": "LoggingMagics",
        "logon": "LoggingMagics",
        "logstart": "LoggingMagics",
        "logstate": "LoggingMagics",
        "logstop": "LoggingMagics",
        "ls": "Other",
        "lsmagic": "BasicMagics",
        "lx": "Other",
        "macro": "ExecutionMagics",
        "magic": "BasicMagics",
        "man": "KernelMagics",
        "matplotlib": "PylabMagics",
        "mkdir": "Other",
        "more": "KernelMagics",
        "mv": "Other",
        "notebook": "BasicMagics",
        "page": "BasicMagics",
        "pastebin": "CodeMagics",
        "pdb": "ExecutionMagics",
        "pdef": "NamespaceMagics",
        "pdoc": "NamespaceMagics",
        "pfile": "NamespaceMagics",
        "pinfo": "NamespaceMagics",
        "pinfo2": "NamespaceMagics",
        "popd": "OSMagics",
        "pprint": "BasicMagics",
        "precision": "BasicMagics",
        "profile": "BasicMagics",
        "prun": "ExecutionMagics",
        "psearch": "NamespaceMagics",
        "psource": "NamespaceMagics",
        "pushd": "OSMagics",
        "pwd": "OSMagics",
        "pycat": "OSMagics",
        "pylab": "PylabMagics",
        "qtconsole": "KernelMagics",
        "quickref": "BasicMagics",
        "recall": "HistoryMagics",
        "rehashx": "OSMagics",
        "reload_ext": "ExtensionMagics",
        "rep": "Other",
        "rerun": "HistoryMagics",
        "reset": "NamespaceMagics",
        "reset_selective": "NamespaceMagics",
        "rm": "Other",
        "rmdir": "Other",
        "run": "ExecutionMagics",
        "save": "CodeMagics",
        "sc": "OSMagics",
        "set_env": "OSMagics",
        "store": "StoreMagics",
        "sx": "OSMagics",
        "system": "OSMagics",
        "tb": "ExecutionMagics",
        "time": "ExecutionMagics",
        "timeit": "ExecutionMagics",
        "unalias": "OSMagics",
        "unload_ext": "ExtensionMagics",
        "who": "NamespaceMagics",
        "who_ls": "NamespaceMagics",
        "whos": "NamespaceMagics",
        "xdel": "NamespaceMagics",
        "xmode": "BasicMagics"
       }
      },
      "text/plain": [
       "Available line magics:\n",
       "%alias  %alias_magic  %autocall  %automagic  %autosave  %bookmark  %cat  %cd  %clear  %colors  %config  %connect_info  %cp  %debug  %dhist  %dirs  %doctest_mode  %ed  %edit  %env  %gui  %hist  %history  %killbgscripts  %ldir  %less  %lf  %lk  %ll  %load  %load_ext  %loadpy  %logoff  %logon  %logstart  %logstate  %logstop  %ls  %lsmagic  %lx  %macro  %magic  %man  %matplotlib  %mkdir  %more  %mv  %notebook  %page  %pastebin  %pdb  %pdef  %pdoc  %pfile  %pinfo  %pinfo2  %popd  %pprint  %precision  %profile  %prun  %psearch  %psource  %pushd  %pwd  %pycat  %pylab  %qtconsole  %quickref  %recall  %rehashx  %reload_ext  %rep  %rerun  %reset  %reset_selective  %rm  %rmdir  %run  %save  %sc  %set_env  %store  %sx  %system  %tb  %time  %timeit  %unalias  %unload_ext  %who  %who_ls  %whos  %xdel  %xmode\n",
       "\n",
       "Available cell magics:\n",
       "%%!  %%HTML  %%SVG  %%bash  %%capture  %%debug  %%file  %%html  %%javascript  %%js  %%latex  %%perl  %%prun  %%pypy  %%python  %%python2  %%python3  %%ruby  %%script  %%sh  %%svg  %%sx  %%system  %%time  %%timeit  %%writefile\n",
       "\n",
       "Automagic is ON, % prefix IS NOT needed for line magics."
      ]
     },
     "execution_count": 1,
     "metadata": {},
     "output_type": "execute_result"
    }
   ],
   "source": [
    "%lsmagic"
   ]
  },
  {
   "cell_type": "markdown",
   "metadata": {},
   "source": [
    "以下为比较常用的命令，排名不分先后"
   ]
  },
  {
   "cell_type": "markdown",
   "metadata": {},
   "source": [
    "### 常用的行魔法命令 "
   ]
  },
  {
   "cell_type": "markdown",
   "metadata": {},
   "source": [
    "#### %alias"
   ]
  },
  {
   "cell_type": "markdown",
   "metadata": {},
   "source": [
    "给命令行命令设置别名<br>\n",
    "Define an alias for a system command.<br>\n",
    "‘%alias alias_name cmd’ defines ‘alias_name’ as an alias for ‘cmd’<br>"
   ]
  },
  {
   "cell_type": "markdown",
   "metadata": {},
   "source": [
    "```python\n",
    "In [2]: alias bracket echo \"Input in brackets: <%l>\"\n",
    "In [3]: bracket hello world\n",
    "Input in brackets: <hello world>\n",
    "```"
   ]
  },
  {
   "cell_type": "markdown",
   "metadata": {},
   "source": [
    "#### %alias_magic"
   ]
  },
  {
   "cell_type": "markdown",
   "metadata": {},
   "source": [
    "给魔法命令设置别名<br>\n",
    "Create an alias for an existing line or cell magic."
   ]
  },
  {
   "cell_type": "markdown",
   "metadata": {},
   "source": [
    "```python\n",
    "In [1]: %alias_magic t timeit\n",
    "Created `%t` as an alias for `%timeit`.\n",
    "Created `%%t` as an alias for `%%timeit`.\n",
    "\n",
    "In [2]: %t -n1 pass\n",
    "1 loops, best of 3: 954 ns per loop\n",
    "\n",
    "In [3]: %%t -n1\n",
    "   ...: pass\n",
    "   ...:\n",
    "1 loops, best of 3: 954 ns per loop\n",
    "```"
   ]
  },
  {
   "cell_type": "markdown",
   "metadata": {},
   "source": [
    "#### %config"
   ]
  },
  {
   "cell_type": "markdown",
   "metadata": {},
   "source": [
    "更改jupyter配置"
   ]
  },
  {
   "cell_type": "markdown",
   "metadata": {},
   "source": [
    "#### %debug , %pdb"
   ]
  },
  {
   "cell_type": "markdown",
   "metadata": {},
   "source": [
    "debug工具<br>\n",
    "notebook 确实提供了debug工具<br>\n",
    "使用方法参见 https://docs.python.org/3/library/pdb.html#debugger-commands <br>\n",
    "只是个人感觉比较鸡肋"
   ]
  },
  {
   "cell_type": "markdown",
   "metadata": {
    "ExecuteTime": {
     "end_time": "2018-02-19T06:48:50.123962Z",
     "start_time": "2018-02-19T06:48:50.118485Z"
    }
   },
   "source": [
    "#### %env"
   ]
  },
  {
   "cell_type": "markdown",
   "metadata": {},
   "source": [
    "查看、配置环境变量"
   ]
  },
  {
   "cell_type": "markdown",
   "metadata": {},
   "source": [
    "#### %history"
   ]
  },
  {
   "cell_type": "markdown",
   "metadata": {},
   "source": [
    "查看历史命令"
   ]
  },
  {
   "cell_type": "markdown",
   "metadata": {},
   "source": [
    "#### %load"
   ]
  },
  {
   "cell_type": "markdown",
   "metadata": {},
   "source": [
    "Load code into the current frontend.<br>\n",
    "相当于把其他文件(如.py文件)的代码复制在此处"
   ]
  },
  {
   "cell_type": "markdown",
   "metadata": {},
   "source": [
    "#### %load_ext"
   ]
  },
  {
   "cell_type": "markdown",
   "metadata": {},
   "source": [
    "Load an IPython extension by its module name."
   ]
  },
  {
   "cell_type": "markdown",
   "metadata": {},
   "source": [
    "#### %logoff,%logon,%logstart,%logstate,%logstop"
   ]
  },
  {
   "cell_type": "markdown",
   "metadata": {},
   "source": [
    "日志相关命令，可以记录你在notebook中的所有命令"
   ]
  },
  {
   "cell_type": "markdown",
   "metadata": {},
   "source": [
    "#### %matplotlib"
   ]
  },
  {
   "cell_type": "markdown",
   "metadata": {},
   "source": [
    "引入matplotlib的变量空间，并选择绘图的后端，常用 %matplotlib inline"
   ]
  },
  {
   "cell_type": "code",
   "execution_count": 2,
   "metadata": {
    "ExecuteTime": {
     "end_time": "2018-02-19T15:24:22.299522Z",
     "start_time": "2018-02-19T15:24:22.295487Z"
    }
   },
   "outputs": [
    {
     "name": "stdout",
     "output_type": "stream",
     "text": [
      "Available matplotlib backends: ['osx', 'qt4', 'qt5', 'widget', 'gtk3', 'notebook', 'wx', 'qt', 'nbagg', 'agg', 'gtk', 'tk', 'ipympl', 'inline']\n"
     ]
    }
   ],
   "source": [
    "# 查看所有可选择的后端\n",
    "%matplotlib --list   "
   ]
  },
  {
   "cell_type": "markdown",
   "metadata": {},
   "source": [
    "#### %pdef"
   ]
  },
  {
   "cell_type": "markdown",
   "metadata": {
    "ExecuteTime": {
     "end_time": "2018-02-19T08:12:25.012637Z",
     "start_time": "2018-02-19T08:12:25.009286Z"
    }
   },
   "source": [
    "Print the call signature for any callable object.<br>\n",
    "If the object is a class, print the constructor information."
   ]
  },
  {
   "cell_type": "markdown",
   "metadata": {},
   "source": [
    "#### %pdoc"
   ]
  },
  {
   "cell_type": "markdown",
   "metadata": {},
   "source": [
    "Print the docstring for an object.<br>\n",
    "If the given object is a class, it will print both the class and the constructor docstrings."
   ]
  },
  {
   "cell_type": "markdown",
   "metadata": {},
   "source": [
    "#### %pfile"
   ]
  },
  {
   "cell_type": "markdown",
   "metadata": {},
   "source": [
    "输出对象被定义的文件的位置<br>\n",
    "Print (or run through pager) the file where an object is defined."
   ]
  },
  {
   "cell_type": "markdown",
   "metadata": {},
   "source": [
    "#### %pprint"
   ]
  },
  {
   "cell_type": "markdown",
   "metadata": {},
   "source": [
    "Toggle pretty printing on/off."
   ]
  },
  {
   "cell_type": "markdown",
   "metadata": {},
   "source": [
    "#### %precision"
   ]
  },
  {
   "cell_type": "markdown",
   "metadata": {
    "ExecuteTime": {
     "end_time": "2018-02-19T08:25:01.948135Z",
     "start_time": "2018-02-19T08:25:01.943208Z"
    }
   },
   "source": [
    "Set floating point precision for pretty printing.<br>\n",
    "Can set either integer precision or a format string.<br>\n",
    "If numpy has been imported and precision is an int, numpy display precision will also be set, via numpy.set_printoptions.<br>\n",
    "If no argument is given, defaults will be restored."
   ]
  },
  {
   "cell_type": "markdown",
   "metadata": {},
   "source": [
    "```python\n",
    "In [1]: from math import pi\n",
    "\n",
    "In [2]: %precision 3\n",
    "Out[2]: u'%.3f'\n",
    "\n",
    "In [3]: pi\n",
    "Out[3]: 3.142\n",
    "\n",
    "In [4]: %precision %i\n",
    "Out[4]: u'%i'\n",
    "\n",
    "In [5]: pi\n",
    "Out[5]: 3\n",
    "\n",
    "In [6]: %precision %e\n",
    "Out[6]: u'%e'\n",
    "\n",
    "In [7]: pi**10\n",
    "Out[7]: 9.364805e+04\n",
    "\n",
    "In [8]: %precision\n",
    "Out[8]: u'%r'\n",
    "\n",
    "In [9]: pi**10\n",
    "Out[9]: 93648.047476082982\n",
    "```"
   ]
  },
  {
   "cell_type": "markdown",
   "metadata": {},
   "source": [
    "#### %prun "
   ]
  },
  {
   "cell_type": "markdown",
   "metadata": {},
   "source": [
    "检测代码性能"
   ]
  },
  {
   "cell_type": "markdown",
   "metadata": {},
   "source": [
    "#### %psearch"
   ]
  },
  {
   "cell_type": "markdown",
   "metadata": {},
   "source": [
    "搜索变量、函数等对象"
   ]
  },
  {
   "cell_type": "markdown",
   "metadata": {},
   "source": [
    "```python\n",
    "%psearch a*            -> objects beginning with an a\n",
    "%psearch -e builtin a* -> objects NOT in the builtin space starting in a\n",
    "%psearch a* function   -> all functions beginning with an a\n",
    "%psearch re.e*         -> objects beginning with an e in module re\n",
    "%psearch r*.e*         -> objects that start with e in modules starting in r\n",
    "%psearch r*.* string   -> all strings in modules beginning with r\n",
    "\n",
    "%psearch -c a*         list all object beginning with lower case a\n",
    "%psearch -a _*         list objects beginning with a single underscore\n",
    "```"
   ]
  },
  {
   "cell_type": "markdown",
   "metadata": {},
   "source": [
    "#### %psource"
   ]
  },
  {
   "cell_type": "markdown",
   "metadata": {},
   "source": [
    "查看关于对象(函数、类)的所有源代码"
   ]
  },
  {
   "cell_type": "markdown",
   "metadata": {},
   "source": [
    "#### %pwd"
   ]
  },
  {
   "cell_type": "markdown",
   "metadata": {},
   "source": [
    "返回当前路径<br>\n",
    "Return the current working directory path."
   ]
  },
  {
   "cell_type": "markdown",
   "metadata": {},
   "source": [
    "#### %pycat"
   ]
  },
  {
   "cell_type": "markdown",
   "metadata": {
    "ExecuteTime": {
     "end_time": "2018-02-19T08:38:43.772834Z",
     "start_time": "2018-02-19T08:38:43.769235Z"
    }
   },
   "source": [
    "Show a syntax-highlighted file through a pager.<br>\n",
    "This magic is similar to the cat utility, but it will assume the file to be Python source and will show it with syntax highlighting.<br>\n",
    "This magic command can either take a local filename, an url, an history range (see %history) or a macro as argument<br>"
   ]
  },
  {
   "cell_type": "markdown",
   "metadata": {},
   "source": [
    "```python\n",
    "%pycat myscript.py\n",
    "%pycat 7-27\n",
    "%pycat myMacro\n",
    "%pycat http://www.example.com/myscript.py\n",
    "```"
   ]
  },
  {
   "cell_type": "markdown",
   "metadata": {},
   "source": [
    "#### %pylab"
   ]
  },
  {
   "cell_type": "markdown",
   "metadata": {
    "ExecuteTime": {
     "end_time": "2018-02-19T08:41:23.238765Z",
     "start_time": "2018-02-19T08:41:23.235020Z"
    }
   },
   "source": [
    "便捷地创建科学计算环境<br>"
   ]
  },
  {
   "cell_type": "markdown",
   "metadata": {},
   "source": [
    "```python\n",
    "%pylab [--no-import-all] [gui]\n",
    "```"
   ]
  },
  {
   "cell_type": "markdown",
   "metadata": {},
   "source": [
    "等价于"
   ]
  },
  {
   "cell_type": "markdown",
   "metadata": {},
   "source": [
    "```python\n",
    "import numpy\n",
    "import matplotlib\n",
    "from matplotlib import pylab, mlab, pyplot\n",
    "np = numpy\n",
    "plt = pyplot\n",
    "\n",
    "from IPython.display import display\n",
    "from IPython.core.pylabtools import figsize, getfigs\n",
    "\n",
    "from pylab import *\n",
    "from numpy import *\n",
    "```"
   ]
  },
  {
   "cell_type": "markdown",
   "metadata": {},
   "source": [
    "If you pass --no-import-all, the last two * imports will be excluded."
   ]
  },
  {
   "cell_type": "markdown",
   "metadata": {},
   "source": [
    "#### %store"
   ]
  },
  {
   "cell_type": "markdown",
   "metadata": {},
   "source": [
    ".ipynb文件之间共享变量"
   ]
  },
  {
   "cell_type": "markdown",
   "metadata": {
    "ExecuteTime": {
     "end_time": "2018-02-19T09:54:50.242035Z",
     "start_time": "2018-02-19T09:54:50.238686Z"
    }
   },
   "source": [
    "在文件a.ipynb中执行"
   ]
  },
  {
   "cell_type": "markdown",
   "metadata": {},
   "source": [
    "```python\n",
    "data = 'this is the string I want to pass to different notebook'\n",
    "%store data\n",
    "```"
   ]
  },
  {
   "cell_type": "markdown",
   "metadata": {},
   "source": [
    "在文件.ipynb中执行"
   ]
  },
  {
   "cell_type": "markdown",
   "metadata": {},
   "source": [
    "```python\n",
    "%store -r data\n",
    "print(data)\n",
    "\n",
    "# this is the string I want to pass to different notebook\n",
    "```"
   ]
  },
  {
   "cell_type": "markdown",
   "metadata": {
    "ExecuteTime": {
     "end_time": "2018-02-19T09:56:08.813347Z",
     "start_time": "2018-02-19T09:56:08.809584Z"
    }
   },
   "source": [
    "即可获得该变量"
   ]
  },
  {
   "cell_type": "markdown",
   "metadata": {},
   "source": [
    "#### %quickref"
   ]
  },
  {
   "cell_type": "markdown",
   "metadata": {},
   "source": [
    "一些快捷使用的参考，强烈推荐初学者看看<br>\n",
    "Show a quick reference sheet.<br>\n",
    "完整版参见 http://ipython.readthedocs.io/en/stable/interactive/reference.html"
   ]
  },
  {
   "cell_type": "markdown",
   "metadata": {},
   "source": [
    "#### %rerun"
   ]
  },
  {
   "cell_type": "markdown",
   "metadata": {},
   "source": [
    "Re-run previous input\n",
    "\n",
    "By default, you can specify ranges of input history to be repeated (as with %history). With no arguments, it will repeat the last line.\n",
    "\n",
    "Options:\n",
    "\n",
    "-l <n> : Repeat the last n lines of input, not including the current command.\n",
    "\n",
    "-g foo : Repeat the most recent line which contains foo"
   ]
  },
  {
   "cell_type": "markdown",
   "metadata": {},
   "source": [
    "#### %reset"
   ]
  },
  {
   "cell_type": "markdown",
   "metadata": {
    "ExecuteTime": {
     "end_time": "2018-02-19T09:00:24.320838Z",
     "start_time": "2018-02-19T09:00:24.313170Z"
    }
   },
   "source": [
    "清空变量空间<br>\n",
    "Parameters\n",
    "\n",
    "-f : force reset without asking for confirmation.\n",
    "\n",
    "-s : ‘Soft’ reset: Only clears your namespace, leaving history intact.\n",
    "References to objects may be kept. By default (without this option), we do a ‘hard’ reset, giving you a new session and removing all references to objects from the current session.\n",
    "in : reset input history\n",
    "\n",
    "out : reset output history\n",
    "\n",
    "dhist : reset directory history\n",
    "\n",
    "array : reset only variables that are NumPy arrays\n",
    "\n",
    "See Also\n",
    "\n",
    "reset_selective : invoked as %reset_selective\n",
    "\n",
    "Examples"
   ]
  },
  {
   "cell_type": "markdown",
   "metadata": {},
   "source": [
    "```python\n",
    "In [6]: a = 1\n",
    "\n",
    "In [7]: a\n",
    "Out[7]: 1\n",
    "\n",
    "In [8]: 'a' in _ip.user_ns\n",
    "Out[8]: True\n",
    "\n",
    "In [9]: %reset -f\n",
    "\n",
    "In [1]: 'a' in _ip.user_ns\n",
    "Out[1]: False\n",
    "\n",
    "In [2]: %reset -f in\n",
    "Flushing input history\n",
    "\n",
    "In [3]: %reset -f dhist in\n",
    "Flushing directory history\n",
    "Flushing input history\n",
    "```"
   ]
  },
  {
   "cell_type": "markdown",
   "metadata": {},
   "source": [
    "#### %reset_selective"
   ]
  },
  {
   "cell_type": "markdown",
   "metadata": {},
   "source": [
    "清理指定变量"
   ]
  },
  {
   "cell_type": "markdown",
   "metadata": {},
   "source": [
    "#### %run"
   ]
  },
  {
   "cell_type": "markdown",
   "metadata": {},
   "source": [
    "运行外部文件，非常有用，建议查看文档学习"
   ]
  },
  {
   "cell_type": "markdown",
   "metadata": {},
   "source": [
    "#### %time , %timeit"
   ]
  },
  {
   "cell_type": "markdown",
   "metadata": {},
   "source": [
    "用于测试代码时间，非常有用，建议查看文档学习"
   ]
  },
  {
   "cell_type": "markdown",
   "metadata": {},
   "source": [
    "#### %who"
   ]
  },
  {
   "cell_type": "markdown",
   "metadata": {},
   "source": [
    "查看所有变量"
   ]
  },
  {
   "cell_type": "markdown",
   "metadata": {},
   "source": [
    "```python\n",
    "In [1]: alpha = 123\n",
    "\n",
    "In [2]: beta = 'test'\n",
    "\n",
    "In [3]: %who\n",
    "alpha   beta\n",
    "\n",
    "In [4]: %who int\n",
    "alpha\n",
    "\n",
    "In [5]: %who str\n",
    "beta\n",
    "```"
   ]
  },
  {
   "cell_type": "markdown",
   "metadata": {},
   "source": [
    "#### %who_ls"
   ]
  },
  {
   "cell_type": "markdown",
   "metadata": {},
   "source": [
    "同%who,但是返回形式为list"
   ]
  },
  {
   "cell_type": "markdown",
   "metadata": {},
   "source": [
    "```python\n",
    "In [1]: alpha = 123\n",
    "\n",
    "In [2]: beta = 'test'\n",
    "\n",
    "In [3]: %who_ls\n",
    "Out[3]: ['alpha', 'beta']\n",
    "\n",
    "In [4]: %who_ls int\n",
    "Out[4]: ['alpha']\n",
    "\n",
    "In [5]: %who_ls str\n",
    "Out[5]: ['beta']\n",
    "```"
   ]
  },
  {
   "cell_type": "markdown",
   "metadata": {},
   "source": [
    "#### %whos"
   ]
  },
  {
   "cell_type": "markdown",
   "metadata": {},
   "source": [
    "返回变量对应的值"
   ]
  },
  {
   "cell_type": "markdown",
   "metadata": {},
   "source": [
    "#### %xmode"
   ]
  },
  {
   "cell_type": "markdown",
   "metadata": {},
   "source": [
    "改变报错的信息格式<br>\n",
    "Valid modes: Plain, Context and Verbose.<br>\n",
    "If called without arguments, acts as a toggle."
   ]
  },
  {
   "cell_type": "markdown",
   "metadata": {},
   "source": [
    "### 常用的单元魔法命令"
   ]
  },
  {
   "cell_type": "markdown",
   "metadata": {},
   "source": [
    "#### 声明脚本代码类型"
   ]
  },
  {
   "cell_type": "markdown",
   "metadata": {},
   "source": [
    "* %%bash         很有用，从此不用写shell文件了\n",
    "* %%html\n",
    "* %%javascript，%%js\n",
    "* %%latex\n",
    "* %%markdown\n",
    "* %%perl\n",
    "* %%pypy\n",
    "* %%python\n",
    "* %%python2\n",
    "* %%python3\n",
    "* %%ruby\n",
    "* %%sh"
   ]
  },
  {
   "cell_type": "markdown",
   "metadata": {},
   "source": [
    "#### %%writefile"
   ]
  },
  {
   "cell_type": "markdown",
   "metadata": {},
   "source": [
    "方便快捷写文件"
   ]
  },
  {
   "cell_type": "markdown",
   "metadata": {},
   "source": [
    "```python\n",
    "%%writefile [-a] filename\n",
    "```"
   ]
  },
  {
   "cell_type": "markdown",
   "metadata": {},
   "source": [
    "Write the contents of the cell to a file.<br>\n",
    "The file will be overwritten unless the -a (–append) flag is specified."
   ]
  },
  {
   "cell_type": "markdown",
   "metadata": {},
   "source": [
    "#### %%time  %%timeit"
   ]
  },
  {
   "cell_type": "markdown",
   "metadata": {},
   "source": [
    "%time  %timeit的cell 版本"
   ]
  },
  {
   "cell_type": "markdown",
   "metadata": {},
   "source": [
    "#### %%capture"
   ]
  },
  {
   "cell_type": "markdown",
   "metadata": {
    "ExecuteTime": {
     "end_time": "2018-02-19T12:54:13.416380Z",
     "start_time": "2018-02-19T12:54:13.412960Z"
    }
   },
   "source": [
    "捕获当前cell的输出，并将其保存为对象<br>"
   ]
  },
  {
   "cell_type": "markdown",
   "metadata": {},
   "source": [
    "```python\n",
    "%%capture result\n",
    "import numpy as np\n",
    "for n in [1000, 5000, 10000, 50000, 100000, 500000]:\n",
    "    arr = np.random.rand(n)\n",
    "    print \"n={0}\".format(n)\n",
    "    %timeit -n20 np.sort(arr)\n",
    "```"
   ]
  },
  {
   "cell_type": "markdown",
   "metadata": {},
   "source": [
    "```python\n",
    "print result.stdout\n",
    "\n",
    "# n=1000\n",
    "# 20 loops, best of 3: 127 us per loop\n",
    "# n=5000\n",
    "# 20 loops, best of 3: 746 us per loop\n",
    "# n=10000\n",
    "# 20 loops, best of 3: 1.69 ms per loop\n",
    "# n=50000\n",
    "# 20 loops, best of 3: 9.22 ms per loop\n",
    "# n=100000\n",
    "# 20 loops, best of 3: 19.7 ms per loop\n",
    "# n=500000\n",
    "# 20 loops, best of 3: 110 ms per loop\n",
    "```"
   ]
  },
  {
   "cell_type": "markdown",
   "metadata": {},
   "source": [
    "### 自定义魔法命令"
   ]
  },
  {
   "cell_type": "markdown",
   "metadata": {},
   "source": [
    "参见 http://ipython.readthedocs.io/en/stable/config/custommagics.html#defining-magics"
   ]
  },
  {
   "cell_type": "markdown",
   "metadata": {},
   "source": [
    "## Tips & Tricks"
   ]
  },
  {
   "cell_type": "markdown",
   "metadata": {},
   "source": [
    "### 查看帮助"
   ]
  },
  {
   "cell_type": "markdown",
   "metadata": {},
   "source": [
    "```\n",
    "?list  or  list?\n",
    "```"
   ]
  },
  {
   "cell_type": "markdown",
   "metadata": {},
   "source": [
    "详细帮助"
   ]
  },
  {
   "cell_type": "markdown",
   "metadata": {},
   "source": [
    "```\n",
    "??str  or  str??\n",
    "```"
   ]
  },
  {
   "cell_type": "markdown",
   "metadata": {
    "ExecuteTime": {
     "end_time": "2018-02-19T13:22:19.749231Z",
     "start_time": "2018-02-19T13:22:19.746073Z"
    }
   },
   "source": [
    "? 的格式可以查询动态对象信息"
   ]
  },
  {
   "cell_type": "markdown",
   "metadata": {},
   "source": [
    "建议使用？在前的格式，？在后的格式有时无效"
   ]
  },
  {
   "cell_type": "markdown",
   "metadata": {},
   "source": [
    "查看完整文档可使用help函数"
   ]
  },
  {
   "cell_type": "markdown",
   "metadata": {
    "ExecuteTime": {
     "end_time": "2018-02-19T13:19:17.059321Z",
     "start_time": "2018-02-19T13:19:17.048625Z"
    }
   },
   "source": [
    "```python\n",
    "help(str)\n",
    "```"
   ]
  },
  {
   "cell_type": "markdown",
   "metadata": {},
   "source": [
    "### 快捷键P打开命令面板"
   ]
  },
  {
   "cell_type": "markdown",
   "metadata": {},
   "source": [
    "### 末句函数不输出"
   ]
  },
  {
   "cell_type": "markdown",
   "metadata": {},
   "source": [
    "在cell结尾使用“；”号可以在绘图时不输出末句函数<br>\n",
    "请动手运行这两种写法"
   ]
  },
  {
   "cell_type": "markdown",
   "metadata": {},
   "source": [
    "```python\n",
    "%matplotlib inline\n",
    "from matplotlib import pyplot as plt\n",
    "import numpy\n",
    "x = numpy.linspace(0, 1, 1000)**1.5\n",
    "plt.hist(x)\n",
    "```"
   ]
  },
  {
   "cell_type": "markdown",
   "metadata": {},
   "source": [
    "```python\n",
    "%matplotlib inline\n",
    "from matplotlib import pyplot as plt\n",
    "import numpy\n",
    "x = numpy.linspace(0, 1, 1000)**1.5\n",
    "plt.hist(x);\n",
    "```"
   ]
  },
  {
   "cell_type": "markdown",
   "metadata": {},
   "source": [
    "### 使用！运行Shell命令"
   ]
  },
  {
   "cell_type": "markdown",
   "metadata": {},
   "source": [
    "```python\n",
    "!ls\n",
    "```"
   ]
  },
  {
   "cell_type": "markdown",
   "metadata": {},
   "source": [
    "### 在同一个notebook里运行R和Python"
   ]
  },
  {
   "cell_type": "markdown",
   "metadata": {},
   "source": [
    "`pip install rpy2 `"
   ]
  },
  {
   "cell_type": "markdown",
   "metadata": {},
   "source": [
    "### 使用Cpython加速"
   ]
  },
  {
   "cell_type": "markdown",
   "metadata": {},
   "source": [
    "`!pip install cython fortran-magic `\n",
    "\n",
    "```python\n",
    "In [ ]: %load_ext Cython\n",
    "In [ ]: %%cython\n",
    "        def myltiply_by_2(float x):\n",
    "            return 2.0 * x\n",
    "In [ ]: myltiply_by_2(23.)\n",
    "```"
   ]
  },
  {
   "cell_type": "markdown",
   "metadata": {},
   "source": [
    "### 使用Fortran"
   ]
  },
  {
   "cell_type": "markdown",
   "metadata": {},
   "source": [
    "详见 http://arogozhnikov.github.io/2015/11/29/using-fortran-from-python.html"
   ]
  },
  {
   "cell_type": "markdown",
   "metadata": {},
   "source": [
    "```python\n",
    "In [ ]: %load_ext fortranmagic\n",
    "In [ ]: %%fortran\n",
    "        subroutine compute_fortran(x, y, z)\n",
    "            real, intent(in) :: x(:), y(:)\n",
    "            real, intent(out) :: z(size(x, 1))\n",
    "\n",
    "            z = sin(x + y)\n",
    "\n",
    "        end subroutine compute_fortran\n",
    "In [ ]: compute_fortran([1, 2, 3], [4, 5, 6])\n",
    "```"
   ]
  },
  {
   "cell_type": "markdown",
   "metadata": {},
   "source": [
    "### 多指针编辑"
   ]
  },
  {
   "cell_type": "markdown",
   "metadata": {},
   "source": [
    "按住Ctrl点击要编辑部位即可获得多指针 <br>\n",
    "按住Alt和鼠标左键，滑动鼠标，即可获得连续多行的多指针"
   ]
  },
  {
   "cell_type": "markdown",
   "metadata": {},
   "source": [
    "### 使用RISE制作PPT"
   ]
  },
  {
   "cell_type": "markdown",
   "metadata": {},
   "source": [
    "详见 https://github.com/damianavila/RISE<br>\n",
    "<img src='images/29.gif'>\n",
    "安装并激活"
   ]
  },
  {
   "cell_type": "markdown",
   "metadata": {},
   "source": [
    "`$ pip install RISE`\n",
    "\n",
    "`$ jupyter-nbextension install rise --py --sys-prefix`\n",
    "\n",
    "`$ jupyter-nbextension enable rise --py --sys-prefix`"
   ]
  },
  {
   "cell_type": "markdown",
   "metadata": {},
   "source": [
    "### Cach & History"
   ]
  },
  {
   "cell_type": "markdown",
   "metadata": {},
   "source": [
    "```\n",
    "_i, _ii, _iii    : Previous, next previous, next next previous input\n",
    "_i4, _ih[2:5]    : Input history line 4, lines 2-4\n",
    "exec _i81        : Execute input history line #81 again\n",
    "%rep 81          : Edit input history line #81\n",
    "_, __, ___       : previous, next previous, next next previous output\n",
    "_dh              : Directory history\n",
    "_oh              : Output history\n",
    "%hist            : Command history of current session.\n",
    "%hist -g foo     : Search command history of (almost) all sessions for 'foo'.\n",
    "%hist -g         : Command history of (almost) all sessions.\n",
    "%hist 1/2-8      : Command history containing lines 2-8 of session 1.\n",
    "%hist 1/ ~2/     : Command history of session 1 and 2 sessions before current.\n",
    "%hist ~8/1-~6/5  : Command history from line 1 of 8 sessions ago to\n",
    "                   line 5 of 6 sessions ago.\n",
    "%edit 0/         : Open editor to execute code with history of current session.\n",
    "```"
   ]
  },
  {
   "cell_type": "markdown",
   "metadata": {},
   "source": [
    "### Autocall"
   ]
  },
  {
   "cell_type": "markdown",
   "metadata": {},
   "source": [
    "```\n",
    "f 1,2            : f(1,2)  # Off by default, enable with %autocall magic.\n",
    "/f 1,2           : f(1,2) (forced autoparen)\n",
    ",f 1 2           : f(\"1\",\"2\")\n",
    ";f 1 2           : f(\"1 2\")\n",
    "```"
   ]
  },
  {
   "cell_type": "markdown",
   "metadata": {},
   "source": [
    "### 使用reconnect"
   ]
  },
  {
   "cell_type": "markdown",
   "metadata": {},
   "source": [
    "当你发现一个正在执行命令的页面很久没有发生变化时，请试一试kernel菜单中reconnect按钮"
   ]
  },
  {
   "cell_type": "markdown",
   "metadata": {},
   "source": [
    "### 使用Jupyter Dashboards"
   ]
  },
  {
   "cell_type": "markdown",
   "metadata": {
    "ExecuteTime": {
     "end_time": "2018-02-19T14:51:21.148259Z",
     "start_time": "2018-02-19T14:51:21.144406Z"
    }
   },
   "source": [
    "<img src='images/31.png'>\n",
    "下载"
   ]
  },
  {
   "cell_type": "markdown",
   "metadata": {},
   "source": [
    "install using pip from pypi and then activate the extension <br>\n",
    "`pip install jupyter_dashboards` <br>\n",
    "`jupyter dashboards quick-setup --sys-prefix` <br>\n",
    "\n",
    "install using conda from conda-forge, no activation required <br>\n",
    "`conda install jupyter_dashboards -c conda-forge` <br>"
   ]
  },
  {
   "cell_type": "markdown",
   "metadata": {},
   "source": [
    "详见链接 <br>\n",
    "https://github.com/jupyter/dashboards <br>\n",
    "http://jupyter-dashboards-layout.readthedocs.io/en/latest/getting-started.html <br>    "
   ]
  },
  {
   "cell_type": "markdown",
   "metadata": {},
   "source": [
    "### jupyter 换装"
   ]
  },
  {
   "cell_type": "markdown",
   "metadata": {
    "ExecuteTime": {
     "end_time": "2018-02-19T14:30:56.889218Z",
     "start_time": "2018-02-19T14:30:56.885438Z"
    }
   },
   "source": [
    "原装 jupyter 太丑？<br>\n",
    "使用jupyter themes吧 <br>\n",
    "https://github.com/dunovank/jupyter-themes <br>\n",
    "<img src='images/30.png'>"
   ]
  },
  {
   "cell_type": "markdown",
   "metadata": {},
   "source": [
    "### 自定义样式"
   ]
  },
  {
   "cell_type": "markdown",
   "metadata": {},
   "source": [
    "你可以选择直接更改jupyter的css和js配置<br>\n",
    "如果这样比较有难度的话，推荐使用Chrome的修改网页样式的插件。这种插件很多，这里就不推荐了。"
   ]
  },
  {
   "cell_type": "markdown",
   "metadata": {},
   "source": [
    "### 如何避免notebook卡顿？"
   ]
  },
  {
   "cell_type": "markdown",
   "metadata": {},
   "source": [
    "* 避免书写太大的.ipynb文件。切记，notebook是演草纸，对于大型工程，及时将演草纸中的内容誊写到卷子上(.py文件)才是正确的方式\n",
    "* 保持良好的文件夹结构\n",
    "* 不要装过多插件\n",
    "* 网络稳定(jupyter 服务器)"
   ]
  },
  {
   "cell_type": "markdown",
   "metadata": {},
   "source": [
    "## 未来计划内容"
   ]
  },
  {
   "cell_type": "markdown",
   "metadata": {},
   "source": [
    "本教程还将增加如下模块："
   ]
  },
  {
   "cell_type": "markdown",
   "metadata": {
    "ExecuteTime": {
     "end_time": "2018-02-19T13:06:51.611903Z",
     "start_time": "2018-02-19T13:06:51.608538Z"
    }
   },
   "source": [
    "* Jupyter可视化\n",
    "* JupyterLab\n",
    "* JupyterHub\n",
    "* 内核配置\n",
    "* 安装其他kernel"
   ]
  },
  {
   "cell_type": "markdown",
   "metadata": {},
   "source": [
    "本教程部分内容仍不够详细，请读者见谅。我会在以后的版本中陆续完善<br>\n",
    "jupyter是一个快速迭代的项目，希望喜欢使用jupyter的朋友一起参与本教程的更新与编辑。<br>\n",
    "谢谢！"
   ]
  },
  {
   "cell_type": "markdown",
   "metadata": {},
   "source": [
    "## 相关链接"
   ]
  },
  {
   "cell_type": "markdown",
   "metadata": {},
   "source": [
    "jupyter 官网  http://jupyter.org/  <br>\n",
    "jupyter 官网教程  http://jupyter.org/documentation <br>\n",
    "ipython Cookbook  https://github.com/ipython/ipython/wiki/Cookbook%3A-Index <br>\n",
    "jupyter basic  https://jupyter-notebook.readthedocs.io/en/latest/examples/Notebook/Notebook%20Basics.html <br>\n",
    "jupyter kernels  https://github.com/jupyter/jupyter/wiki/Jupyter-kernels <br>\n",
    "ipython tutorial  http://nbviewer.jupyter.org/github/ipython/ipython/blob/4.0.x/examples/IPython%20Kernel/Index.ipynb <br>\n",
    "A gallery of interesting Jupyter Notebooks  https://github.com/jupyter/jupyter/wiki/A-gallery-of-interesting-Jupyter-Notebooks <br>\n",
    "nbextensions  http://jupyter-contrib-nbextensions.readthedocs.io/en/latest/index.html <br>\n",
    "装扮你的Jupyter  https://zhuanlan.zhihu.com/p/26739300?group_id=843868091631955968 <br>\n",
    "Jupyter Notebook的27个秘诀，技巧和快捷键  https://www.zybuluo.com/hanxiaoyang/note/534296 <br>"
   ]
  }
 ],
 "metadata": {
  "kernelspec": {
   "display_name": "Python 2",
   "language": "python",
   "name": "python2"
  },
  "language_info": {
   "codemirror_mode": {
    "name": "ipython",
    "version": 2
   },
   "file_extension": ".py",
   "mimetype": "text/x-python",
   "name": "python",
   "nbconvert_exporter": "python",
   "pygments_lexer": "ipython2",
   "version": "2.7.12"
  },
  "nbTranslate": {
   "displayLangs": [
    "*"
   ],
   "hotkey": "alt-t",
   "langInMainMenu": true,
   "sourceLang": "en",
   "targetLang": "fr",
   "useGoogleTranslate": true
  },
  "toc": {
   "nav_menu": {},
   "number_sections": true,
   "sideBar": true,
   "skip_h1_title": true,
   "toc_cell": true,
   "toc_position": {
    "height": "646px",
    "left": "0px",
    "right": "1360.8px",
    "top": "111px",
    "width": "175px"
   },
   "toc_section_display": "block",
   "toc_window_display": true
  },
  "varInspector": {
   "cols": {
    "lenName": 16,
    "lenType": 16,
    "lenVar": 40
   },
   "kernels_config": {
    "python": {
     "delete_cmd_postfix": "",
     "delete_cmd_prefix": "del ",
     "library": "var_list.py",
     "varRefreshCmd": "print(var_dic_list())"
    },
    "r": {
     "delete_cmd_postfix": ") ",
     "delete_cmd_prefix": "rm(",
     "library": "var_list.r",
     "varRefreshCmd": "cat(var_dic_list()) "
    }
   },
   "types_to_exclude": [
    "module",
    "function",
    "builtin_function_or_method",
    "instance",
    "_Feature"
   ],
   "window_display": false
  }
 },
 "nbformat": 4,
 "nbformat_minor": 2
}
